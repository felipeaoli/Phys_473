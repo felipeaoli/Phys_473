{
 "cells": [
  {
   "cell_type": "markdown",
   "id": "73c0821f-94f6-4a72-af9b-329b6bb6a59a",
   "metadata": {},
   "source": [
    "# Exercise: Cosmic Chronometers\n",
    "\n",
    "A cosmic chromatometer is a technique that measures the Hubble expansion in a given redshift. Use the data in Hz_cosmicchron.txt try to constraint the LCDM model parameters. \n",
    "\n",
    "1. Plot your data\n",
    "2. Write a function for the Hubble parameter in the LCDM model. What are the free parameters of your model?\n",
    "3. Write a function to evaluate the log-likelihood of your model. What is your likelihood distribution (choice)?\n",
    "4. Write your prior function. Explain your choices\n",
    "5. Find the best-fit parameter(s)\n",
    "6. Evaluate the full posterior for your parameter(s)\n",
    "7. Find your 68% of credible level"
   ]
  },
  {
   "cell_type": "code",
   "execution_count": null,
   "id": "0671a4d7-a6e8-42e7-9148-af370758531e",
   "metadata": {},
   "outputs": [],
   "source": []
  },
  {
   "cell_type": "code",
   "execution_count": null,
   "id": "f74a4690-1999-49af-a771-6420c8021c29",
   "metadata": {},
   "outputs": [],
   "source": []
  },
  {
   "cell_type": "markdown",
   "id": "910e314a-f984-4f38-8527-bdd21fbea551",
   "metadata": {},
   "source": [
    "## Exercise 2\n",
    "Wow! </br>\n",
    "After you had started the previous exercises, new evidences are now pointing that $\\Omega_m=0.35\\pm0.004$ ! </br>Update your previous results with this new information. "
   ]
  },
  {
   "cell_type": "code",
   "execution_count": null,
   "id": "40f0bb10-a8b0-4659-ab3b-606e3e4f1394",
   "metadata": {},
   "outputs": [],
   "source": []
  },
  {
   "cell_type": "markdown",
   "id": "24977536",
   "metadata": {},
   "source": [
    "### Exercise 3\n",
    "Your frequentist friend tells you that they guarantee that your test statistic is Chi-squared distributed with two degrees of freedom, and that you can compute the p-value given a certain X2-value as below. \n",
    "For the grid in H0, Omega matter, can you indicate the frequentist confidence intervals in this dimension"
   ]
  },
  {
   "cell_type": "code",
   "execution_count": null,
   "id": "7caa3a32",
   "metadata": {},
   "outputs": [],
   "source": [
    "import scipy.stats as sps\n",
    "#sps.chi2(2).sf(X2 - X2_minimum) #probability to observe a Chi2-score equal or greater than X2"
   ]
  },
  {
   "cell_type": "markdown",
   "id": "0ba02991",
   "metadata": {},
   "source": [
    "### Exercise 4\n",
    "Your frequentist friend also tells you that if you find the _minimal_ X2 for each H0 (this is known as the _profile log-likelihood ratio_, the distribution of that minimum is distributed as a Chi2 with one degree of freedom"
   ]
  },
  {
   "cell_type": "code",
   "execution_count": null,
   "id": "021ae25f",
   "metadata": {},
   "outputs": [],
   "source": []
  }
 ],
 "metadata": {
  "kernelspec": {
   "display_name": "Python 3 (ipykernel)",
   "language": "python",
   "name": "python3"
  },
  "language_info": {
   "codemirror_mode": {
    "name": "ipython",
    "version": 3
   },
   "file_extension": ".py",
   "mimetype": "text/x-python",
   "name": "python",
   "nbconvert_exporter": "python",
   "pygments_lexer": "ipython3",
   "version": "3.8.15"
  }
 },
 "nbformat": 4,
 "nbformat_minor": 5
}
